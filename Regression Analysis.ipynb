{
  "metadata": {
    "kernelspec": {
      "name": "python",
      "display_name": "Python (Pyodide)",
      "language": "python"
    },
    "language_info": {
      "codemirror_mode": {
        "name": "python",
        "version": 3
      },
      "file_extension": ".py",
      "mimetype": "text/x-python",
      "name": "python",
      "nbconvert_exporter": "python",
      "pygments_lexer": "ipython3",
      "version": "3.8"
    }
  },
  "nbformat_minor": 4,
  "nbformat": 4,
  "cells": [
    {
      "cell_type": "markdown",
      "source": "## Regression Analysis",
      "metadata": {}
    },
    {
      "cell_type": "code",
      "source": "import piplite\nawait piplite.install(['numpy'],['pandas'])\nimport numpy as np\nimport pandas as pd\nimport statsmodels.api as sm\nfrom js import fetch\nimport io\n\nURL = 'https://cf-courses-data.s3.us.cloud-object-storage.appdomain.cloud/IBMDeveloperSkillsNetwork-ST0151EN-SkillsNetwork/labs/teachingratings.csv'\nresp = await fetch(URL)\nratings_url = io.BytesIO((await resp.arrayBuffer()).to_py())",
      "metadata": {
        "trusted": true
      },
      "outputs": [],
      "execution_count": 2
    },
    {
      "cell_type": "code",
      "source": "ratings_df = pd.read_csv(ratings_url)",
      "metadata": {
        "trusted": true
      },
      "outputs": [],
      "execution_count": 3
    },
    {
      "cell_type": "markdown",
      "source": "### Regression with T-test\n#### Hypothesis:\n#### H_0: beta1 =0 (Gender has not effect on teaching evaluation scores)\n#### H_1: beta1 is not equal to 0 (Gender has an effect on teaching evaluation scores)",
      "metadata": {}
    },
    {
      "cell_type": "code",
      "source": "# X is the input variables\nx = ratings_df['female']\n# y is dependent variable\ny = ratings_df['eval']\n\nx = sm.add_constant(x)\n\nmodel = sm.OLS(y,x).fit()\npredictions = model.predict(x)\n\nmodel.summary()",
      "metadata": {
        "trusted": true
      },
      "outputs": [
        {
          "execution_count": 4,
          "output_type": "execute_result",
          "data": {
            "text/plain": "<class 'statsmodels.iolib.summary.Summary'>\n\"\"\"\n                            OLS Regression Results                            \n==============================================================================\nDep. Variable:                   eval   R-squared:                       0.022\nModel:                            OLS   Adj. R-squared:                  0.020\nMethod:                 Least Squares   F-statistic:                     10.56\nDate:                Tue, 20 Feb 2024   Prob (F-statistic):            0.00124\nTime:                        18:56:41   Log-Likelihood:                -378.50\nNo. Observations:                 463   AIC:                             761.0\nDf Residuals:                     461   BIC:                             769.3\nDf Model:                           1                                         \nCovariance Type:            nonrobust                                         \n==============================================================================\n                 coef    std err          t      P>|t|      [0.025      0.975]\n------------------------------------------------------------------------------\nconst          4.0690      0.034    121.288      0.000       4.003       4.135\nfemale        -0.1680      0.052     -3.250      0.001      -0.270      -0.066\n==============================================================================\nOmnibus:                       17.625   Durbin-Watson:                   1.209\nProb(Omnibus):                  0.000   Jarque-Bera (JB):               18.970\nSkew:                          -0.496   Prob(JB):                     7.60e-05\nKurtosis:                       2.981   Cond. No.                         2.47\n==============================================================================\n\nNotes:\n[1] Standard Errors assume that the covariance matrix of the errors is correctly specified.\n\"\"\"",
            "text/html": "<table class=\"simpletable\">\n<caption>OLS Regression Results</caption>\n<tr>\n  <th>Dep. Variable:</th>          <td>eval</td>       <th>  R-squared:         </th> <td>   0.022</td>\n</tr>\n<tr>\n  <th>Model:</th>                   <td>OLS</td>       <th>  Adj. R-squared:    </th> <td>   0.020</td>\n</tr>\n<tr>\n  <th>Method:</th>             <td>Least Squares</td>  <th>  F-statistic:       </th> <td>   10.56</td>\n</tr>\n<tr>\n  <th>Date:</th>             <td>Tue, 20 Feb 2024</td> <th>  Prob (F-statistic):</th>  <td>0.00124</td>\n</tr>\n<tr>\n  <th>Time:</th>                 <td>18:56:41</td>     <th>  Log-Likelihood:    </th> <td> -378.50</td>\n</tr>\n<tr>\n  <th>No. Observations:</th>      <td>   463</td>      <th>  AIC:               </th> <td>   761.0</td>\n</tr>\n<tr>\n  <th>Df Residuals:</th>          <td>   461</td>      <th>  BIC:               </th> <td>   769.3</td>\n</tr>\n<tr>\n  <th>Df Model:</th>              <td>     1</td>      <th>                     </th>     <td> </td>   \n</tr>\n<tr>\n  <th>Covariance Type:</th>      <td>nonrobust</td>    <th>                     </th>     <td> </td>   \n</tr>\n</table>\n<table class=\"simpletable\">\n<tr>\n     <td></td>       <th>coef</th>     <th>std err</th>      <th>t</th>      <th>P>|t|</th>  <th>[0.025</th>    <th>0.975]</th>  \n</tr>\n<tr>\n  <th>const</th>  <td>    4.0690</td> <td>    0.034</td> <td>  121.288</td> <td> 0.000</td> <td>    4.003</td> <td>    4.135</td>\n</tr>\n<tr>\n  <th>female</th> <td>   -0.1680</td> <td>    0.052</td> <td>   -3.250</td> <td> 0.001</td> <td>   -0.270</td> <td>   -0.066</td>\n</tr>\n</table>\n<table class=\"simpletable\">\n<tr>\n  <th>Omnibus:</th>       <td>17.625</td> <th>  Durbin-Watson:     </th> <td>   1.209</td>\n</tr>\n<tr>\n  <th>Prob(Omnibus):</th> <td> 0.000</td> <th>  Jarque-Bera (JB):  </th> <td>  18.970</td>\n</tr>\n<tr>\n  <th>Skew:</th>          <td>-0.496</td> <th>  Prob(JB):          </th> <td>7.60e-05</td>\n</tr>\n<tr>\n  <th>Kurtosis:</th>      <td> 2.981</td> <th>  Cond. No.          </th> <td>    2.47</td>\n</tr>\n</table><br/><br/>Notes:<br/>[1] Standard Errors assume that the covariance matrix of the errors is correctly specified.",
            "text/latex": "\\begin{center}\n\\begin{tabular}{lclc}\n\\toprule\n\\textbf{Dep. Variable:}    &       eval       & \\textbf{  R-squared:         } &     0.022   \\\\\n\\textbf{Model:}            &       OLS        & \\textbf{  Adj. R-squared:    } &     0.020   \\\\\n\\textbf{Method:}           &  Least Squares   & \\textbf{  F-statistic:       } &     10.56   \\\\\n\\textbf{Date:}             & Tue, 20 Feb 2024 & \\textbf{  Prob (F-statistic):} &  0.00124    \\\\\n\\textbf{Time:}             &     18:56:41     & \\textbf{  Log-Likelihood:    } &   -378.50   \\\\\n\\textbf{No. Observations:} &         463      & \\textbf{  AIC:               } &     761.0   \\\\\n\\textbf{Df Residuals:}     &         461      & \\textbf{  BIC:               } &     769.3   \\\\\n\\textbf{Df Model:}         &           1      & \\textbf{                     } &             \\\\\n\\textbf{Covariance Type:}  &    nonrobust     & \\textbf{                     } &             \\\\\n\\bottomrule\n\\end{tabular}\n\\begin{tabular}{lcccccc}\n                & \\textbf{coef} & \\textbf{std err} & \\textbf{t} & \\textbf{P$> |$t$|$} & \\textbf{[0.025} & \\textbf{0.975]}  \\\\\n\\midrule\n\\textbf{const}  &       4.0690  &        0.034     &   121.288  &         0.000        &        4.003    &        4.135     \\\\\n\\textbf{female} &      -0.1680  &        0.052     &    -3.250  &         0.001        &       -0.270    &       -0.066     \\\\\n\\bottomrule\n\\end{tabular}\n\\begin{tabular}{lclc}\n\\textbf{Omnibus:}       & 17.625 & \\textbf{  Durbin-Watson:     } &    1.209  \\\\\n\\textbf{Prob(Omnibus):} &  0.000 & \\textbf{  Jarque-Bera (JB):  } &   18.970  \\\\\n\\textbf{Skew:}          & -0.496 & \\textbf{  Prob(JB):          } & 7.60e-05  \\\\\n\\textbf{Kurtosis:}      &  2.981 & \\textbf{  Cond. No.          } &     2.47  \\\\\n\\bottomrule\n\\end{tabular}\n%\\caption{OLS Regression Results}\n\\end{center}\n\nNotes: \\newline\n [1] Standard Errors assume that the covariance matrix of the errors is correctly specified."
          },
          "metadata": {}
        }
      ],
      "execution_count": 4
    },
    {
      "cell_type": "markdown",
      "source": "## Regression with ANOVA\n### Hypothesis:\n### H_0: u1=u2=u3 (three population means are equal)\n### H_1: At least one of the means differ",
      "metadata": {}
    },
    {
      "cell_type": "code",
      "source": "ratings_df.loc[(ratings_df['age'] <= 40), 'age_group'] = '40 years and younger'\nratings_df.loc[(ratings_df['age'] > 40)&(ratings_df['age'] < 57), 'age_group'] = 'between 40 and 57 years'\nratings_df.loc[(ratings_df['age'] >= 57), 'age_group'] = '57 years and older'",
      "metadata": {
        "trusted": true
      },
      "outputs": [],
      "execution_count": 5
    },
    {
      "cell_type": "code",
      "source": "from statsmodels.formula.api import ols\nlm = ols('beauty ~ age_group', data = ratings_df).fit()\ntable= sm.stats.anova_lm(lm)\nprint(table)",
      "metadata": {
        "trusted": true
      },
      "outputs": [
        {
          "name": "stdout",
          "text": "              df      sum_sq    mean_sq          F        PR(>F)\nage_group    2.0   20.422744  10.211372  17.597559  4.322549e-08\nResidual   460.0  266.925153   0.580272        NaN           NaN\n",
          "output_type": "stream"
        }
      ],
      "execution_count": 6
    },
    {
      "cell_type": "markdown",
      "source": "Conclusion: We can also see the same values for ANOVA like before and we will reject the null hypothesis since the p-value is less than 0.05 there is significant evidence that at least one of the means differ.",
      "metadata": {}
    },
    {
      "cell_type": "markdown",
      "source": "### Regression with ANOVA option 2\n",
      "metadata": {}
    },
    {
      "cell_type": "markdown",
      "source": "Create dummy variables - A dummy variable is a numeric variable that represents categorical data, such as gender, race, etc. Dummy variables are dichotomous, i.e they can take on only two quantitative values.\n",
      "metadata": {}
    },
    {
      "cell_type": "code",
      "source": "X = pd.get_dummies(ratings_df[['age_group']])",
      "metadata": {
        "trusted": true
      },
      "outputs": [],
      "execution_count": 9
    },
    {
      "cell_type": "code",
      "source": "y = ratings_df['beauty']\n## add an intercept (beta_0) to our model\nX = sm.add_constant(X) \n\nmodel = sm.OLS(y, X).fit()\npredictions = model.predict(X)\n\n# Print out the statistics\nmodel.summary()",
      "metadata": {
        "trusted": true
      },
      "outputs": [
        {
          "execution_count": 10,
          "output_type": "execute_result",
          "data": {
            "text/plain": "<class 'statsmodels.iolib.summary.Summary'>\n\"\"\"\n                            OLS Regression Results                            \n==============================================================================\nDep. Variable:                 beauty   R-squared:                       0.071\nModel:                            OLS   Adj. R-squared:                  0.065\nMethod:                 Least Squares   F-statistic:                     11.71\nDate:                Tue, 20 Feb 2024   Prob (F-statistic):           2.10e-07\nTime:                        18:57:35   Log-Likelihood:                -529.47\nNo. Observations:                 463   AIC:                             1067.\nDf Residuals:                     459   BIC:                             1083.\nDf Model:                           3                                         \nCovariance Type:            nonrobust                                         \n=====================================================================================================\n                                        coef    std err          t      P>|t|      [0.025      0.975]\n-----------------------------------------------------------------------------------------------------\nconst                                 0.0138      0.028      0.495      0.621      -0.041       0.069\nage_group_40 years and younger        0.3224      0.058      5.568      0.000       0.209       0.436\nage_group_57 years and older         -0.2596      0.056     -4.616      0.000      -0.370      -0.149\nage_group_between 40 and 57 years    -0.0489      0.045     -1.080      0.281      -0.138       0.040\n==============================================================================\nOmnibus:                       11.586   Durbin-Watson:                   0.434\nProb(Omnibus):                  0.003   Jarque-Bera (JB):               12.114\nSkew:                           0.394   Prob(JB):                      0.00234\nKurtosis:                       2.913   Cond. No.                     1.12e+15\n==============================================================================\n\nNotes:\n[1] Standard Errors assume that the covariance matrix of the errors is correctly specified.\n[2] The smallest eigenvalue is 5.11e-28. This might indicate that there are\nstrong multicollinearity problems or that the design matrix is singular.\n\"\"\"",
            "text/html": "<table class=\"simpletable\">\n<caption>OLS Regression Results</caption>\n<tr>\n  <th>Dep. Variable:</th>         <td>beauty</td>      <th>  R-squared:         </th> <td>   0.071</td>\n</tr>\n<tr>\n  <th>Model:</th>                   <td>OLS</td>       <th>  Adj. R-squared:    </th> <td>   0.065</td>\n</tr>\n<tr>\n  <th>Method:</th>             <td>Least Squares</td>  <th>  F-statistic:       </th> <td>   11.71</td>\n</tr>\n<tr>\n  <th>Date:</th>             <td>Tue, 20 Feb 2024</td> <th>  Prob (F-statistic):</th> <td>2.10e-07</td>\n</tr>\n<tr>\n  <th>Time:</th>                 <td>18:57:35</td>     <th>  Log-Likelihood:    </th> <td> -529.47</td>\n</tr>\n<tr>\n  <th>No. Observations:</th>      <td>   463</td>      <th>  AIC:               </th> <td>   1067.</td>\n</tr>\n<tr>\n  <th>Df Residuals:</th>          <td>   459</td>      <th>  BIC:               </th> <td>   1083.</td>\n</tr>\n<tr>\n  <th>Df Model:</th>              <td>     3</td>      <th>                     </th>     <td> </td>   \n</tr>\n<tr>\n  <th>Covariance Type:</th>      <td>nonrobust</td>    <th>                     </th>     <td> </td>   \n</tr>\n</table>\n<table class=\"simpletable\">\n<tr>\n                  <td></td>                     <th>coef</th>     <th>std err</th>      <th>t</th>      <th>P>|t|</th>  <th>[0.025</th>    <th>0.975]</th>  \n</tr>\n<tr>\n  <th>const</th>                             <td>    0.0138</td> <td>    0.028</td> <td>    0.495</td> <td> 0.621</td> <td>   -0.041</td> <td>    0.069</td>\n</tr>\n<tr>\n  <th>age_group_40 years and younger</th>    <td>    0.3224</td> <td>    0.058</td> <td>    5.568</td> <td> 0.000</td> <td>    0.209</td> <td>    0.436</td>\n</tr>\n<tr>\n  <th>age_group_57 years and older</th>      <td>   -0.2596</td> <td>    0.056</td> <td>   -4.616</td> <td> 0.000</td> <td>   -0.370</td> <td>   -0.149</td>\n</tr>\n<tr>\n  <th>age_group_between 40 and 57 years</th> <td>   -0.0489</td> <td>    0.045</td> <td>   -1.080</td> <td> 0.281</td> <td>   -0.138</td> <td>    0.040</td>\n</tr>\n</table>\n<table class=\"simpletable\">\n<tr>\n  <th>Omnibus:</th>       <td>11.586</td> <th>  Durbin-Watson:     </th> <td>   0.434</td>\n</tr>\n<tr>\n  <th>Prob(Omnibus):</th> <td> 0.003</td> <th>  Jarque-Bera (JB):  </th> <td>  12.114</td>\n</tr>\n<tr>\n  <th>Skew:</th>          <td> 0.394</td> <th>  Prob(JB):          </th> <td> 0.00234</td>\n</tr>\n<tr>\n  <th>Kurtosis:</th>      <td> 2.913</td> <th>  Cond. No.          </th> <td>1.12e+15</td>\n</tr>\n</table><br/><br/>Notes:<br/>[1] Standard Errors assume that the covariance matrix of the errors is correctly specified.<br/>[2] The smallest eigenvalue is 5.11e-28. This might indicate that there are<br/>strong multicollinearity problems or that the design matrix is singular.",
            "text/latex": "\\begin{center}\n\\begin{tabular}{lclc}\n\\toprule\n\\textbf{Dep. Variable:}                      &      beauty      & \\textbf{  R-squared:         } &     0.071   \\\\\n\\textbf{Model:}                              &       OLS        & \\textbf{  Adj. R-squared:    } &     0.065   \\\\\n\\textbf{Method:}                             &  Least Squares   & \\textbf{  F-statistic:       } &     11.71   \\\\\n\\textbf{Date:}                               & Tue, 20 Feb 2024 & \\textbf{  Prob (F-statistic):} &  2.10e-07   \\\\\n\\textbf{Time:}                               &     18:57:35     & \\textbf{  Log-Likelihood:    } &   -529.47   \\\\\n\\textbf{No. Observations:}                   &         463      & \\textbf{  AIC:               } &     1067.   \\\\\n\\textbf{Df Residuals:}                       &         459      & \\textbf{  BIC:               } &     1083.   \\\\\n\\textbf{Df Model:}                           &           3      & \\textbf{                     } &             \\\\\n\\textbf{Covariance Type:}                    &    nonrobust     & \\textbf{                     } &             \\\\\n\\bottomrule\n\\end{tabular}\n\\begin{tabular}{lcccccc}\n                                             & \\textbf{coef} & \\textbf{std err} & \\textbf{t} & \\textbf{P$> |$t$|$} & \\textbf{[0.025} & \\textbf{0.975]}  \\\\\n\\midrule\n\\textbf{const}                               &       0.0138  &        0.028     &     0.495  &         0.621        &       -0.041    &        0.069     \\\\\n\\textbf{age\\_group\\_40 years and younger}    &       0.3224  &        0.058     &     5.568  &         0.000        &        0.209    &        0.436     \\\\\n\\textbf{age\\_group\\_57 years and older}      &      -0.2596  &        0.056     &    -4.616  &         0.000        &       -0.370    &       -0.149     \\\\\n\\textbf{age\\_group\\_between 40 and 57 years} &      -0.0489  &        0.045     &    -1.080  &         0.281        &       -0.138    &        0.040     \\\\\n\\bottomrule\n\\end{tabular}\n\\begin{tabular}{lclc}\n\\textbf{Omnibus:}       & 11.586 & \\textbf{  Durbin-Watson:     } &    0.434  \\\\\n\\textbf{Prob(Omnibus):} &  0.003 & \\textbf{  Jarque-Bera (JB):  } &   12.114  \\\\\n\\textbf{Skew:}          &  0.394 & \\textbf{  Prob(JB):          } &  0.00234  \\\\\n\\textbf{Kurtosis:}      &  2.913 & \\textbf{  Cond. No.          } & 1.12e+15  \\\\\n\\bottomrule\n\\end{tabular}\n%\\caption{OLS Regression Results}\n\\end{center}\n\nNotes: \\newline\n [1] Standard Errors assume that the covariance matrix of the errors is correctly specified. \\newline\n [2] The smallest eigenvalue is 5.11e-28. This might indicate that there are \\newline\n strong multicollinearity problems or that the design matrix is singular."
          },
          "metadata": {}
        }
      ],
      "execution_count": 10
    },
    {
      "cell_type": "markdown",
      "source": "### Correlation: Using the teachers' rating dataset, Is teaching evaluation score correlated with beauty score?\n",
      "metadata": {}
    },
    {
      "cell_type": "code",
      "source": "## X is the input variables (or independent variables)\nX = ratings_df['beauty']\n## y is the target/dependent variable\ny = ratings_df['eval']\n## add an intercept (beta_0) to our model\nX = sm.add_constant(X) \n\nmodel = sm.OLS(y, X).fit()\npredictions = model.predict(X)\n\n# Print out the statistics\nmodel.summary()",
      "metadata": {
        "trusted": true
      },
      "outputs": [
        {
          "execution_count": 11,
          "output_type": "execute_result",
          "data": {
            "text/plain": "<class 'statsmodels.iolib.summary.Summary'>\n\"\"\"\n                            OLS Regression Results                            \n==============================================================================\nDep. Variable:                   eval   R-squared:                       0.036\nModel:                            OLS   Adj. R-squared:                  0.034\nMethod:                 Least Squares   F-statistic:                     17.08\nDate:                Tue, 20 Feb 2024   Prob (F-statistic):           4.25e-05\nTime:                        18:57:57   Log-Likelihood:                -375.32\nNo. Observations:                 463   AIC:                             754.6\nDf Residuals:                     461   BIC:                             762.9\nDf Model:                           1                                         \nCovariance Type:            nonrobust                                         \n==============================================================================\n                 coef    std err          t      P>|t|      [0.025      0.975]\n------------------------------------------------------------------------------\nconst          3.9983      0.025    157.727      0.000       3.948       4.048\nbeauty         0.1330      0.032      4.133      0.000       0.070       0.196\n==============================================================================\nOmnibus:                       15.399   Durbin-Watson:                   1.238\nProb(Omnibus):                  0.000   Jarque-Bera (JB):               16.405\nSkew:                          -0.453   Prob(JB):                     0.000274\nKurtosis:                       2.831   Cond. No.                         1.27\n==============================================================================\n\nNotes:\n[1] Standard Errors assume that the covariance matrix of the errors is correctly specified.\n\"\"\"",
            "text/html": "<table class=\"simpletable\">\n<caption>OLS Regression Results</caption>\n<tr>\n  <th>Dep. Variable:</th>          <td>eval</td>       <th>  R-squared:         </th> <td>   0.036</td>\n</tr>\n<tr>\n  <th>Model:</th>                   <td>OLS</td>       <th>  Adj. R-squared:    </th> <td>   0.034</td>\n</tr>\n<tr>\n  <th>Method:</th>             <td>Least Squares</td>  <th>  F-statistic:       </th> <td>   17.08</td>\n</tr>\n<tr>\n  <th>Date:</th>             <td>Tue, 20 Feb 2024</td> <th>  Prob (F-statistic):</th> <td>4.25e-05</td>\n</tr>\n<tr>\n  <th>Time:</th>                 <td>18:57:57</td>     <th>  Log-Likelihood:    </th> <td> -375.32</td>\n</tr>\n<tr>\n  <th>No. Observations:</th>      <td>   463</td>      <th>  AIC:               </th> <td>   754.6</td>\n</tr>\n<tr>\n  <th>Df Residuals:</th>          <td>   461</td>      <th>  BIC:               </th> <td>   762.9</td>\n</tr>\n<tr>\n  <th>Df Model:</th>              <td>     1</td>      <th>                     </th>     <td> </td>   \n</tr>\n<tr>\n  <th>Covariance Type:</th>      <td>nonrobust</td>    <th>                     </th>     <td> </td>   \n</tr>\n</table>\n<table class=\"simpletable\">\n<tr>\n     <td></td>       <th>coef</th>     <th>std err</th>      <th>t</th>      <th>P>|t|</th>  <th>[0.025</th>    <th>0.975]</th>  \n</tr>\n<tr>\n  <th>const</th>  <td>    3.9983</td> <td>    0.025</td> <td>  157.727</td> <td> 0.000</td> <td>    3.948</td> <td>    4.048</td>\n</tr>\n<tr>\n  <th>beauty</th> <td>    0.1330</td> <td>    0.032</td> <td>    4.133</td> <td> 0.000</td> <td>    0.070</td> <td>    0.196</td>\n</tr>\n</table>\n<table class=\"simpletable\">\n<tr>\n  <th>Omnibus:</th>       <td>15.399</td> <th>  Durbin-Watson:     </th> <td>   1.238</td>\n</tr>\n<tr>\n  <th>Prob(Omnibus):</th> <td> 0.000</td> <th>  Jarque-Bera (JB):  </th> <td>  16.405</td>\n</tr>\n<tr>\n  <th>Skew:</th>          <td>-0.453</td> <th>  Prob(JB):          </th> <td>0.000274</td>\n</tr>\n<tr>\n  <th>Kurtosis:</th>      <td> 2.831</td> <th>  Cond. No.          </th> <td>    1.27</td>\n</tr>\n</table><br/><br/>Notes:<br/>[1] Standard Errors assume that the covariance matrix of the errors is correctly specified.",
            "text/latex": "\\begin{center}\n\\begin{tabular}{lclc}\n\\toprule\n\\textbf{Dep. Variable:}    &       eval       & \\textbf{  R-squared:         } &     0.036   \\\\\n\\textbf{Model:}            &       OLS        & \\textbf{  Adj. R-squared:    } &     0.034   \\\\\n\\textbf{Method:}           &  Least Squares   & \\textbf{  F-statistic:       } &     17.08   \\\\\n\\textbf{Date:}             & Tue, 20 Feb 2024 & \\textbf{  Prob (F-statistic):} &  4.25e-05   \\\\\n\\textbf{Time:}             &     18:57:57     & \\textbf{  Log-Likelihood:    } &   -375.32   \\\\\n\\textbf{No. Observations:} &         463      & \\textbf{  AIC:               } &     754.6   \\\\\n\\textbf{Df Residuals:}     &         461      & \\textbf{  BIC:               } &     762.9   \\\\\n\\textbf{Df Model:}         &           1      & \\textbf{                     } &             \\\\\n\\textbf{Covariance Type:}  &    nonrobust     & \\textbf{                     } &             \\\\\n\\bottomrule\n\\end{tabular}\n\\begin{tabular}{lcccccc}\n                & \\textbf{coef} & \\textbf{std err} & \\textbf{t} & \\textbf{P$> |$t$|$} & \\textbf{[0.025} & \\textbf{0.975]}  \\\\\n\\midrule\n\\textbf{const}  &       3.9983  &        0.025     &   157.727  &         0.000        &        3.948    &        4.048     \\\\\n\\textbf{beauty} &       0.1330  &        0.032     &     4.133  &         0.000        &        0.070    &        0.196     \\\\\n\\bottomrule\n\\end{tabular}\n\\begin{tabular}{lclc}\n\\textbf{Omnibus:}       & 15.399 & \\textbf{  Durbin-Watson:     } &    1.238  \\\\\n\\textbf{Prob(Omnibus):} &  0.000 & \\textbf{  Jarque-Bera (JB):  } &   16.405  \\\\\n\\textbf{Skew:}          & -0.453 & \\textbf{  Prob(JB):          } & 0.000274  \\\\\n\\textbf{Kurtosis:}      &  2.831 & \\textbf{  Cond. No.          } &     1.27  \\\\\n\\bottomrule\n\\end{tabular}\n%\\caption{OLS Regression Results}\n\\end{center}\n\nNotes: \\newline\n [1] Standard Errors assume that the covariance matrix of the errors is correctly specified."
          },
          "metadata": {}
        }
      ],
      "execution_count": 11
    },
    {
      "cell_type": "markdown",
      "source": "**Conclusion:** p < 0.05 there is evidence of correlation between beauty and evaluation scores\n",
      "metadata": {}
    },
    {
      "cell_type": "code",
      "source": "",
      "metadata": {
        "trusted": true
      },
      "outputs": [],
      "execution_count": null
    }
  ]
}